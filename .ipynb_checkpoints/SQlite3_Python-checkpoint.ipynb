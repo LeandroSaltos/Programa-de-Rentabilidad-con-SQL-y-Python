{
 "cells": [
  {
   "cell_type": "code",
   "execution_count": 3,
   "id": "96269e35-584b-4fc6-915b-9b636d0c9bfc",
   "metadata": {},
   "outputs": [],
   "source": [
    "# Importamos las librerias necesarias \n",
    "import numpy as np\n",
    "import pandas as pd \n",
    "import matplotlib.pyplot as plt\n",
    "import seaborn as sns \n",
    "import sqlite3"
   ]
  },
  {
   "cell_type": "code",
   "execution_count": 5,
   "id": "1cb78553-da9b-45af-9ccb-2f0225a8bad4",
   "metadata": {},
   "outputs": [
    {
     "data": {
      "text/plain": [
       "'C:\\\\Users\\\\Leandro\\\\Proyecto_py_sql'"
      ]
     },
     "execution_count": 5,
     "metadata": {},
     "output_type": "execute_result"
    }
   ],
   "source": [
    "# Aqui se extrae el workind directory\n",
    "import os \n",
    "os.getcwd()"
   ]
  },
  {
   "cell_type": "code",
   "execution_count": 9,
   "id": "87c4bf5b-5b09-467e-acc8-7cc234f26c40",
   "metadata": {},
   "outputs": [],
   "source": [
    "# Realizamos la coneccion con la base de datos y realizamos la consulta\n",
    "conn=sqlite3.connect('Northwind.db') \n",
    "\n",
    "query='''\n",
    "SELECT * FROM Products \n",
    "'''"
   ]
  },
  {
   "cell_type": "code",
   "execution_count": 10,
   "id": "205adca4-0228-4337-8b07-b47279f00adf",
   "metadata": {},
   "outputs": [],
   "source": [
    "products=pd.read_sql_query(query,conn)"
   ]
  },
  {
   "cell_type": "code",
   "execution_count": 11,
   "id": "85a83299-3346-4d6d-b878-8614124cc7a3",
   "metadata": {},
   "outputs": [
    {
     "name": "stdout",
     "output_type": "stream",
     "text": [
      "    ProductID                      ProductName  SupplierID  CategoryID  \\\n",
      "0           1                            Chais         1.0         1.0   \n",
      "1           2                            Chang         1.0         1.0   \n",
      "2           3                    Aniseed Syrup         1.0         2.0   \n",
      "3           4     Chef Anton's Cajun Seasoning         2.0         2.0   \n",
      "4           5           Chef Anton's Gumbo Mix         2.0         2.0   \n",
      "..        ...                              ...         ...         ...   \n",
      "75         76                     Lakkalikööri        23.0         1.0   \n",
      "76         77  Original Frankfurter grüne Soße        12.0         2.0   \n",
      "77         78                             None         NaN         NaN   \n",
      "78         79                             None         NaN         NaN   \n",
      "79         80                             None         NaN         NaN   \n",
      "\n",
      "                   Unit  Price  \n",
      "0    10 boxes x 20 bags  18.00  \n",
      "1    24 - 12 oz bottles  19.00  \n",
      "2   12 - 550 ml bottles  10.00  \n",
      "3        48 - 6 oz jars  22.00  \n",
      "4              36 boxes  21.35  \n",
      "..                  ...    ...  \n",
      "75               500 ml  18.00  \n",
      "76             12 boxes  13.00  \n",
      "77                 None   0.00  \n",
      "78                 None   0.00  \n",
      "79                 None   0.00  \n",
      "\n",
      "[80 rows x 6 columns]\n"
     ]
    }
   ],
   "source": [
    "print(products)"
   ]
  },
  {
   "cell_type": "code",
   "execution_count": null,
   "id": "62aeb54f-3ae7-4488-96de-50861a6bc8e2",
   "metadata": {},
   "outputs": [],
   "source": []
  }
 ],
 "metadata": {
  "kernelspec": {
   "display_name": "Python 3 (ipykernel)",
   "language": "python",
   "name": "python3"
  },
  "language_info": {
   "codemirror_mode": {
    "name": "ipython",
    "version": 3
   },
   "file_extension": ".py",
   "mimetype": "text/x-python",
   "name": "python",
   "nbconvert_exporter": "python",
   "pygments_lexer": "ipython3",
   "version": "3.9.12"
  }
 },
 "nbformat": 4,
 "nbformat_minor": 5
}
